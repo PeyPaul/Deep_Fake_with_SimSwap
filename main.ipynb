{
 "cells": [
  {
   "cell_type": "code",
   "execution_count": 1,
   "metadata": {},
   "outputs": [
    {
     "name": "stdout",
     "output_type": "stream",
     "text": [
      "coucou\n"
     ]
    }
   ],
   "source": [
    "print('coucou')"
   ]
  },
  {
   "cell_type": "code",
   "execution_count": 3,
   "metadata": {},
   "outputs": [
    {
     "name": "stderr",
     "output_type": "stream",
     "text": [
      "Cloning into 'SimSwap'...\n"
     ]
    }
   ],
   "source": [
    "!git clone https://github.com/neuralchen/SimSwap "
   ]
  },
  {
   "cell_type": "code",
   "execution_count": null,
   "metadata": {},
   "outputs": [],
   "source": [
    "!pip install torch torchvision torchaudio -f https://download.pytorch.org/whl/cu113/torch_stable.html"
   ]
  },
  {
   "cell_type": "code",
   "execution_count": 2,
   "metadata": {},
   "outputs": [
    {
     "name": "stdout",
     "output_type": "stream",
     "text": [
      "Requirement already satisfied: insightface==0.2.1 in c:\\cs\\automaton\\deep_fake_simswap\\deep_fake_with_simswap\\env\\lib\\site-packages (0.2.1)\n",
      "Requirement already satisfied: moviepy in c:\\cs\\automaton\\deep_fake_simswap\\deep_fake_with_simswap\\env\\lib\\site-packages (1.0.3)\n",
      "Collecting onnxruntime\n",
      "  Downloading onnxruntime-1.17.3-cp311-cp311-win_amd64.whl.metadata (4.6 kB)\n",
      "Requirement already satisfied: numpy in c:\\cs\\automaton\\deep_fake_simswap\\deep_fake_with_simswap\\env\\lib\\site-packages (from insightface==0.2.1) (1.26.4)\n",
      "Requirement already satisfied: onnx in c:\\cs\\automaton\\deep_fake_simswap\\deep_fake_with_simswap\\env\\lib\\site-packages (from insightface==0.2.1) (1.16.0)\n",
      "Requirement already satisfied: tqdm in c:\\cs\\automaton\\deep_fake_simswap\\deep_fake_with_simswap\\env\\lib\\site-packages (from insightface==0.2.1) (4.66.2)\n",
      "Requirement already satisfied: requests in c:\\cs\\automaton\\deep_fake_simswap\\deep_fake_with_simswap\\env\\lib\\site-packages (from insightface==0.2.1) (2.31.0)\n",
      "Requirement already satisfied: matplotlib in c:\\cs\\automaton\\deep_fake_simswap\\deep_fake_with_simswap\\env\\lib\\site-packages (from insightface==0.2.1) (3.8.4)\n",
      "Requirement already satisfied: Pillow in c:\\cs\\automaton\\deep_fake_simswap\\deep_fake_with_simswap\\env\\lib\\site-packages (from insightface==0.2.1) (10.3.0)\n",
      "Requirement already satisfied: scipy in c:\\cs\\automaton\\deep_fake_simswap\\deep_fake_with_simswap\\env\\lib\\site-packages (from insightface==0.2.1) (1.13.0)\n",
      "Requirement already satisfied: opencv-python in c:\\cs\\automaton\\deep_fake_simswap\\deep_fake_with_simswap\\env\\lib\\site-packages (from insightface==0.2.1) (4.9.0.80)\n",
      "Requirement already satisfied: scikit-learn in c:\\cs\\automaton\\deep_fake_simswap\\deep_fake_with_simswap\\env\\lib\\site-packages (from insightface==0.2.1) (1.4.2)\n",
      "Requirement already satisfied: scikit-image in c:\\cs\\automaton\\deep_fake_simswap\\deep_fake_with_simswap\\env\\lib\\site-packages (from insightface==0.2.1) (0.23.2)\n",
      "Requirement already satisfied: easydict in c:\\cs\\automaton\\deep_fake_simswap\\deep_fake_with_simswap\\env\\lib\\site-packages (from insightface==0.2.1) (1.13)\n",
      "Requirement already satisfied: decorator<5.0,>=4.0.2 in c:\\cs\\automaton\\deep_fake_simswap\\deep_fake_with_simswap\\env\\lib\\site-packages (from moviepy) (4.4.2)\n",
      "Requirement already satisfied: proglog<=1.0.0 in c:\\cs\\automaton\\deep_fake_simswap\\deep_fake_with_simswap\\env\\lib\\site-packages (from moviepy) (0.1.10)\n",
      "Requirement already satisfied: imageio<3.0,>=2.5 in c:\\cs\\automaton\\deep_fake_simswap\\deep_fake_with_simswap\\env\\lib\\site-packages (from moviepy) (2.34.1)\n",
      "Requirement already satisfied: imageio-ffmpeg>=0.2.0 in c:\\cs\\automaton\\deep_fake_simswap\\deep_fake_with_simswap\\env\\lib\\site-packages (from moviepy) (0.4.9)\n",
      "Requirement already satisfied: coloredlogs in c:\\cs\\automaton\\deep_fake_simswap\\deep_fake_with_simswap\\env\\lib\\site-packages (from onnxruntime) (15.0.1)\n",
      "Requirement already satisfied: flatbuffers in c:\\cs\\automaton\\deep_fake_simswap\\deep_fake_with_simswap\\env\\lib\\site-packages (from onnxruntime) (24.3.25)\n",
      "Requirement already satisfied: packaging in c:\\cs\\automaton\\deep_fake_simswap\\deep_fake_with_simswap\\env\\lib\\site-packages (from onnxruntime) (24.0)\n",
      "Requirement already satisfied: protobuf in c:\\cs\\automaton\\deep_fake_simswap\\deep_fake_with_simswap\\env\\lib\\site-packages (from onnxruntime) (5.26.1)\n",
      "Requirement already satisfied: sympy in c:\\cs\\automaton\\deep_fake_simswap\\deep_fake_with_simswap\\env\\lib\\site-packages (from onnxruntime) (1.12)\n",
      "Requirement already satisfied: setuptools in c:\\cs\\automaton\\deep_fake_simswap\\deep_fake_with_simswap\\env\\lib\\site-packages (from imageio-ffmpeg>=0.2.0->moviepy) (65.5.0)\n",
      "Requirement already satisfied: charset-normalizer<4,>=2 in c:\\cs\\automaton\\deep_fake_simswap\\deep_fake_with_simswap\\env\\lib\\site-packages (from requests->insightface==0.2.1) (3.3.2)\n",
      "Requirement already satisfied: idna<4,>=2.5 in c:\\cs\\automaton\\deep_fake_simswap\\deep_fake_with_simswap\\env\\lib\\site-packages (from requests->insightface==0.2.1) (3.7)\n",
      "Requirement already satisfied: urllib3<3,>=1.21.1 in c:\\cs\\automaton\\deep_fake_simswap\\deep_fake_with_simswap\\env\\lib\\site-packages (from requests->insightface==0.2.1) (2.2.1)\n",
      "Requirement already satisfied: certifi>=2017.4.17 in c:\\cs\\automaton\\deep_fake_simswap\\deep_fake_with_simswap\\env\\lib\\site-packages (from requests->insightface==0.2.1) (2024.2.2)\n",
      "Requirement already satisfied: colorama in c:\\cs\\automaton\\deep_fake_simswap\\deep_fake_with_simswap\\env\\lib\\site-packages (from tqdm->insightface==0.2.1) (0.4.6)\n",
      "Requirement already satisfied: humanfriendly>=9.1 in c:\\cs\\automaton\\deep_fake_simswap\\deep_fake_with_simswap\\env\\lib\\site-packages (from coloredlogs->onnxruntime) (10.0)\n",
      "Requirement already satisfied: contourpy>=1.0.1 in c:\\cs\\automaton\\deep_fake_simswap\\deep_fake_with_simswap\\env\\lib\\site-packages (from matplotlib->insightface==0.2.1) (1.2.1)\n",
      "Requirement already satisfied: cycler>=0.10 in c:\\cs\\automaton\\deep_fake_simswap\\deep_fake_with_simswap\\env\\lib\\site-packages (from matplotlib->insightface==0.2.1) (0.12.1)\n",
      "Requirement already satisfied: fonttools>=4.22.0 in c:\\cs\\automaton\\deep_fake_simswap\\deep_fake_with_simswap\\env\\lib\\site-packages (from matplotlib->insightface==0.2.1) (4.51.0)\n",
      "Requirement already satisfied: kiwisolver>=1.3.1 in c:\\cs\\automaton\\deep_fake_simswap\\deep_fake_with_simswap\\env\\lib\\site-packages (from matplotlib->insightface==0.2.1) (1.4.5)\n",
      "Requirement already satisfied: pyparsing>=2.3.1 in c:\\cs\\automaton\\deep_fake_simswap\\deep_fake_with_simswap\\env\\lib\\site-packages (from matplotlib->insightface==0.2.1) (3.1.2)\n",
      "Requirement already satisfied: python-dateutil>=2.7 in c:\\cs\\automaton\\deep_fake_simswap\\deep_fake_with_simswap\\env\\lib\\site-packages (from matplotlib->insightface==0.2.1) (2.9.0.post0)\n",
      "Requirement already satisfied: networkx>=2.8 in c:\\cs\\automaton\\deep_fake_simswap\\deep_fake_with_simswap\\env\\lib\\site-packages (from scikit-image->insightface==0.2.1) (3.3)\n",
      "Requirement already satisfied: tifffile>=2022.8.12 in c:\\cs\\automaton\\deep_fake_simswap\\deep_fake_with_simswap\\env\\lib\\site-packages (from scikit-image->insightface==0.2.1) (2024.4.24)\n",
      "Requirement already satisfied: lazy-loader>=0.4 in c:\\cs\\automaton\\deep_fake_simswap\\deep_fake_with_simswap\\env\\lib\\site-packages (from scikit-image->insightface==0.2.1) (0.4)\n",
      "Requirement already satisfied: joblib>=1.2.0 in c:\\cs\\automaton\\deep_fake_simswap\\deep_fake_with_simswap\\env\\lib\\site-packages (from scikit-learn->insightface==0.2.1) (1.4.0)\n",
      "Requirement already satisfied: threadpoolctl>=2.0.0 in c:\\cs\\automaton\\deep_fake_simswap\\deep_fake_with_simswap\\env\\lib\\site-packages (from scikit-learn->insightface==0.2.1) (3.4.0)\n",
      "Requirement already satisfied: mpmath>=0.19 in c:\\cs\\automaton\\deep_fake_simswap\\deep_fake_with_simswap\\env\\lib\\site-packages (from sympy->onnxruntime) (1.3.0)\n",
      "Requirement already satisfied: pyreadline3 in c:\\cs\\automaton\\deep_fake_simswap\\deep_fake_with_simswap\\env\\lib\\site-packages (from humanfriendly>=9.1->coloredlogs->onnxruntime) (3.4.1)\n",
      "Requirement already satisfied: six>=1.5 in c:\\cs\\automaton\\deep_fake_simswap\\deep_fake_with_simswap\\env\\lib\\site-packages (from python-dateutil>=2.7->matplotlib->insightface==0.2.1) (1.16.0)\n",
      "Downloading onnxruntime-1.17.3-cp311-cp311-win_amd64.whl (5.6 MB)\n",
      "   ---------------------------------------- 0.0/5.6 MB ? eta -:--:--\n",
      "   ---------------------------------------- 0.0/5.6 MB ? eta -:--:--\n",
      "   ---------------------------------------- 0.0/5.6 MB 487.6 kB/s eta 0:00:12\n",
      "    --------------------------------------- 0.1/5.6 MB 1.2 MB/s eta 0:00:05\n",
      "   -- ------------------------------------- 0.3/5.6 MB 2.2 MB/s eta 0:00:03\n",
      "   --- ------------------------------------ 0.5/5.6 MB 3.0 MB/s eta 0:00:02\n",
      "   ----- ---------------------------------- 0.8/5.6 MB 3.9 MB/s eta 0:00:02\n",
      "   ------- -------------------------------- 1.0/5.6 MB 4.1 MB/s eta 0:00:02\n",
      "   -------- ------------------------------- 1.2/5.6 MB 4.0 MB/s eta 0:00:02\n",
      "   --------- ------------------------------ 1.3/5.6 MB 3.8 MB/s eta 0:00:02\n",
      "   ---------- ----------------------------- 1.4/5.6 MB 3.8 MB/s eta 0:00:02\n",
      "   ---------- ----------------------------- 1.5/5.6 MB 3.6 MB/s eta 0:00:02\n",
      "   ----------- ---------------------------- 1.6/5.6 MB 3.6 MB/s eta 0:00:02\n",
      "   ----------- ---------------------------- 1.6/5.6 MB 3.2 MB/s eta 0:00:02\n",
      "   ----------- ---------------------------- 1.7/5.6 MB 3.1 MB/s eta 0:00:02\n",
      "   ------------ --------------------------- 1.8/5.6 MB 3.2 MB/s eta 0:00:02\n",
      "   ------------- -------------------------- 1.9/5.6 MB 3.0 MB/s eta 0:00:02\n",
      "   ------------- -------------------------- 1.9/5.6 MB 3.0 MB/s eta 0:00:02\n",
      "   -------------- ------------------------- 2.1/5.6 MB 3.0 MB/s eta 0:00:02\n",
      "   --------------- ------------------------ 2.2/5.6 MB 3.0 MB/s eta 0:00:02\n",
      "   ---------------- ----------------------- 2.4/5.6 MB 3.0 MB/s eta 0:00:02\n",
      "   ----------------- ---------------------- 2.4/5.6 MB 3.0 MB/s eta 0:00:02\n",
      "   ----------------- ---------------------- 2.5/5.6 MB 2.9 MB/s eta 0:00:02\n",
      "   ------------------ --------------------- 2.6/5.6 MB 3.0 MB/s eta 0:00:02\n",
      "   ------------------ --------------------- 2.6/5.6 MB 2.9 MB/s eta 0:00:02\n",
      "   ------------------- -------------------- 2.7/5.6 MB 2.8 MB/s eta 0:00:02\n",
      "   -------------------- ------------------- 2.9/5.6 MB 2.8 MB/s eta 0:00:01\n",
      "   --------------------- ------------------ 3.0/5.6 MB 2.9 MB/s eta 0:00:01\n",
      "   ---------------------- ----------------- 3.2/5.6 MB 2.9 MB/s eta 0:00:01\n",
      "   ------------------------ --------------- 3.4/5.6 MB 3.0 MB/s eta 0:00:01\n",
      "   ------------------------- -------------- 3.5/5.6 MB 3.0 MB/s eta 0:00:01\n",
      "   ------------------------- -------------- 3.6/5.6 MB 3.0 MB/s eta 0:00:01\n",
      "   -------------------------- ------------- 3.8/5.6 MB 3.0 MB/s eta 0:00:01\n",
      "   --------------------------- ------------ 3.9/5.6 MB 3.0 MB/s eta 0:00:01\n",
      "   ---------------------------- ----------- 3.9/5.6 MB 3.0 MB/s eta 0:00:01\n",
      "   ---------------------------- ----------- 4.0/5.6 MB 2.9 MB/s eta 0:00:01\n",
      "   ---------------------------- ----------- 4.0/5.6 MB 2.9 MB/s eta 0:00:01\n",
      "   ----------------------------- ---------- 4.2/5.6 MB 2.9 MB/s eta 0:00:01\n",
      "   ------------------------------ --------- 4.3/5.6 MB 2.8 MB/s eta 0:00:01\n",
      "   ------------------------------- -------- 4.4/5.6 MB 2.8 MB/s eta 0:00:01\n",
      "   ------------------------------- -------- 4.4/5.6 MB 2.7 MB/s eta 0:00:01\n",
      "   -------------------------------- ------- 4.6/5.6 MB 2.8 MB/s eta 0:00:01\n",
      "   ---------------------------------- ----- 4.8/5.6 MB 2.9 MB/s eta 0:00:01\n",
      "   ----------------------------------- ---- 5.0/5.6 MB 2.9 MB/s eta 0:00:01\n",
      "   ------------------------------------ --- 5.2/5.6 MB 2.9 MB/s eta 0:00:01\n",
      "   -------------------------------------- - 5.4/5.6 MB 3.0 MB/s eta 0:00:01\n",
      "   ---------------------------------------  5.6/5.6 MB 3.1 MB/s eta 0:00:01\n",
      "   ---------------------------------------- 5.6/5.6 MB 3.0 MB/s eta 0:00:00\n",
      "Installing collected packages: onnxruntime\n",
      "Successfully installed onnxruntime-1.17.3\n"
     ]
    }
   ],
   "source": [
    "!pip install insightface==0.2.1 moviepy onnxruntime"
   ]
  },
  {
   "cell_type": "code",
   "execution_count": 9,
   "metadata": {},
   "outputs": [
    {
     "name": "stderr",
     "output_type": "stream",
     "text": [
      "'conda' n'est pas reconnu en tant que commande interne\n",
      "ou externe, un programme ex�cutable ou un fichier de commandes.\n"
     ]
    }
   ],
   "source": [
    "!conda install pytorch torchvision torchaudio pytorch-cuda=12.1 -c pytorch-nightly -c nvidia"
   ]
  },
  {
   "cell_type": "code",
   "execution_count": 3,
   "metadata": {},
   "outputs": [
    {
     "name": "stderr",
     "output_type": "stream",
     "text": [
      "Traceback (most recent call last):\n",
      "  File \"c:\\CS\\automaton\\Deep_fake_SimSwap\\Deep_Fake_with_SimSwap\\SimSwap\\test_one_image.py\", line 30, in <module>\n",
      "    opt = TestOptions().parse()\n",
      "          ^^^^^^^^^^^^^^^^^^^^^\n",
      "  File \"c:\\CS\\automaton\\Deep_fake_SimSwap\\Deep_Fake_with_SimSwap\\SimSwap\\options\\base_options.py\", line 84, in parse\n",
      "    torch.cuda.set_device(self.opt.gpu_ids[0])\n",
      "  File \"c:\\CS\\automaton\\Deep_fake_SimSwap\\Deep_Fake_with_SimSwap\\env\\Lib\\site-packages\\torch\\cuda\\__init__.py\", line 399, in set_device\n",
      "    torch._C._cuda_setDevice(device)\n",
      "    ^^^^^^^^^^^^^^^^^^^^^^^^\n",
      "AttributeError: module 'torch._C' has no attribute '_cuda_setDevice'\n"
     ]
    }
   ],
   "source": [
    "!cd SimSwap & python test_one_image.py --name people --Arc_path arcface_model/arcface_checkpoint.tar --pic_a_path crop_224/nickcanva.jpg --pic_b_path crop_224/lewiscanva.jpg --output_path output/ "
   ]
  }
 ],
 "metadata": {
  "kernelspec": {
   "display_name": "env",
   "language": "python",
   "name": "python3"
  },
  "language_info": {
   "codemirror_mode": {
    "name": "ipython",
    "version": 3
   },
   "file_extension": ".py",
   "mimetype": "text/x-python",
   "name": "python",
   "nbconvert_exporter": "python",
   "pygments_lexer": "ipython3",
   "version": "3.11.5"
  }
 },
 "nbformat": 4,
 "nbformat_minor": 2
}
